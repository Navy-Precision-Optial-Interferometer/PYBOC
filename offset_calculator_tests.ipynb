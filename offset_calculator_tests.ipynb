{
 "cells": [
  {
   "cell_type": "code",
   "execution_count": 22,
   "metadata": {},
   "outputs": [],
   "source": [
    "# import libraries\n",
    "import numpy as np\n",
    "import matplotlib.pyplot as plt\n",
    "import itertools\n",
    "import os\n",
    "import ipywidgets as widgets\n",
    "\n",
    "# change working directory to location of notebook/local starlog files\n",
    "stardir = r'C:\\Users\\erinr\\Desktop\\starlogs'\n",
    "os.chdir(stardir)\n",
    "\n",
    "# list of starlog files to work with\n",
    "starlogs = ['2021-0513-030617.starLog.sent.txt', '2021-0514-023207.starLog.sent.txt', '2021-0515-023347.starLog.sent.txt', '2021-0516-021727.starLog.sent.txt', '2021-0517-022130.starLog.sent.txt', '2021-0520-035716.starLog.sent.txt', \n",
    "            '2021-0524-021223.starLog.sent.txt', '2021-0527-075226.starLog.sent.txt', '2021-0528-035422.starLog.sent.txt', '2021-0529-020921.starLog.sent.txt', '2021-0530-022114.starLog.sent.txt']"
   ]
  },
  {
   "cell_type": "markdown",
   "metadata": {},
   "source": [
    "# Working with local data (file list above: 2021-05-13 - 2021-05-30, skipping a few)"
   ]
  },
  {
   "cell_type": "code",
   "execution_count": 2,
   "metadata": {},
   "outputs": [],
   "source": [
    "data = []\n",
    "\n",
    "# Pull in starlog data, skipping the header and also skipping the fsnr lines. Does not\n",
    "# work for a file which has multiple headers at the moment.\n",
    "\n",
    "for starlog in starlogs:\n",
    "    with open(starlog, 'r') as f:\n",
    "        data.append(list(itertools.islice(f, 18, None, 2)))\n",
    "\n",
    "# Combine all the starlogs into one list of entries, then split each entry\n",
    "# which is a single string containing the entire entry into a list of the individual column entries\n",
    "for i in range(len(data)):\n",
    "    data[i] = [data[i][j].split() for j in range(len(data[i]))]\n",
    "\n",
    "# Pull out only the coherent scans\n",
    "data_clean = []\n",
    "for i in range(len(data)):\n",
    "    for j in range(len(data[i])):\n",
    "        if data[i][j][1] != 'I' and data[i][j][9] != '-1.000' and data[i][j][12] != '-1.000': # the and statements are in case a non-coherent entry was under a different label\n",
    "            data_clean.append(data[i][j])\n",
    "\n",
    "# Make arrays of the star names, hour angles, and offsets for each individual entry\n",
    "stars = np.array([data_clean[i][2] for i in range(len(data_clean))])\n",
    "angles = np.array([data_clean[i][4] for i in range(len(data_clean))]).astype(np.float)\n",
    "b1 = np.array([data_clean[i][9] for i in range(len(data_clean))]).astype(np.float)\n",
    "b4 = np.array([data_clean[i][12] for i in range(len(data_clean))]).astype(np.float)\n",
    "\n",
    "# Dictionaries to contain the hour angles and offsets for each observation for each unique star\n",
    "unique_stars = set(stars)\n",
    "b1_dict = {star: [] for star in unique_stars}\n",
    "b4_dict = {star: [] for star in unique_stars}\n",
    "angles_dict = {star: [] for star in unique_stars}\n",
    "\n",
    "# Sort the starlog entries into the dictionaries\n",
    "for star in unique_stars:\n",
    "    for i in range(len(stars)):\n",
    "        if stars[i] == star:\n",
    "            b1_dict[star].append(b1[i])\n",
    "            b4_dict[star].append(b4[i])\n",
    "            angles_dict[star].append(angles[i])"
   ]
  },
  {
   "cell_type": "code",
   "execution_count": 3,
   "metadata": {},
   "outputs": [],
   "source": [
    "# Fit the baseline offsets for each baseline/star to a quadratic fit\n",
    "# and make a dictionary of the coefficients\n",
    "\n",
    "polydict = {star: [] for star in unique_stars}\n",
    "for star in unique_stars:\n",
    "    polydict[star].append(np.polyfit(angles_dict[star], b1_dict[star],2))\n",
    "    polydict[star].append(np.polyfit(angles_dict[star], b4_dict[star],2))"
   ]
  },
  {
   "cell_type": "code",
   "execution_count": 4,
   "metadata": {
    "scrolled": true
   },
   "outputs": [
    {
     "data": {
      "application/vnd.jupyter.widget-view+json": {
       "model_id": "4f8d253e4e3343b99a18929351d339ac",
       "version_major": 2,
       "version_minor": 0
      },
      "text/plain": [
       "interactive(children=(Dropdown(description='Star', options=('FKV0396', 'FKV0681', 'BSC5849', 'FKV0576', 'FKV07…"
      ]
     },
     "metadata": {},
     "output_type": "display_data"
    }
   ],
   "source": [
    "# Function to plot the offsets and the polynomial fits for a given star, and to\n",
    "# display calculated offsets for a given hour angle for that star\n",
    "\n",
    "def plot_offsets(my_star, hour_angle=None):\n",
    "    if my_star == None: # default value of the dropdown list is None when this code block is run\n",
    "        pass\n",
    "    else:        \n",
    "        fig, ax = plt.subplots(1,1,figsize=(15,8))\n",
    "\n",
    "        # Scatter plot the hour angles and offsets for the star\n",
    "        ax.scatter(angles_dict[my_star], b1_dict[my_star], label='AC-AE, y=%.4fx^2 + %.4fx + %.4f' % (polydict[my_star][0][0], polydict[my_star][0][1], polydict[my_star][0][2]),c='lime')\n",
    "        ax.scatter(angles_dict[my_star], b4_dict[my_star], label='E6-AE, y=%.4fx^2 + %.4fx + %.4f' % (polydict[my_star][1][0], polydict[my_star][1][1], polydict[my_star][1][2]),c='b')\n",
    "        \n",
    "        # Plot the polynomial fit for each baseline\n",
    "        xs=np.linspace(np.amin(angles_dict[my_star]) - 0.5, np.amax(angles_dict[my_star]) + 0.5, 1000)\n",
    "        ax.plot(xs, (polydict[my_star][0][0] * (xs**2)) + (polydict[my_star][0][1]* xs) + polydict[my_star][0][2],c='lime')\n",
    "        ax.plot(xs, (polydict[my_star][1][0] * (xs**2)) + (polydict[my_star][1][1]* xs) + polydict[my_star][1][2],c='b')\n",
    "        \n",
    "        # Other plot setup\n",
    "        ax.set_ylim([0,3])\n",
    "        ax.set_title(my_star,fontsize=24)\n",
    "        ax.set_ylabel('Baseline Offset (mm)',fontsize=20)\n",
    "        ax.set_xlabel('Hour Angle', fontsize=20)\n",
    "        plt.xticks(fontsize=16)\n",
    "        plt.yticks(fontsize=16)\n",
    "        plt.legend(fontsize=16)\n",
    "        \n",
    "        plt.show()\n",
    "    \n",
    "        # Text box widgets to display the calculated baseline offsets for a given hour angle\n",
    "        acae = widgets.Text('%.3f' % ((polydict[my_star][0][0] * (hour_angle**2)) + (polydict[my_star][0][1]* hour_angle) + polydict[my_star][0][2]),description='AC-AE Offset')\n",
    "        e6ae = widgets.Text('%.3f' % ((polydict[my_star][1][0] * (hour_angle**2)) + (polydict[my_star][1][1]* hour_angle) + polydict[my_star][1][2]),description='E6-AE Offset')\n",
    "        display(acae)\n",
    "        display(e6ae)\n",
    "\n",
    "# Widgets that interacts with the above function: dropdown list to select the star that the above function will plot,\n",
    "# and text box to pass the hour angle that the function will take and use to calculate offsets\n",
    "starbox = widgets.interact(plot_offsets,my_star=widgets.Dropdown(options=unique_stars, value=None, description='Star', disabled=False), hour_angle=widgets.FloatText(description='Hour Angle'))\n"
   ]
  },
  {
   "cell_type": "markdown",
   "metadata": {},
   "source": [
    "# Scrape from web"
   ]
  },
  {
   "cell_type": "code",
   "execution_count": 14,
   "metadata": {},
   "outputs": [],
   "source": [
    "import requests\n",
    "from bs4 import BeautifulSoup, SoupStrainer"
   ]
  },
  {
   "cell_type": "code",
   "execution_count": 15,
   "metadata": {
    "scrolled": false
   },
   "outputs": [],
   "source": [
    "# Connect to the starlog archive page and pull all of its html \"content\"\n",
    "r = 'http://sextans.lowell.edu/npoi-internal/observing/starLogs/starLogArchive.html'\n",
    "content = requests.get(r,auth=('npoiuser','H8NoFringes')).content\n",
    "\n",
    "# Find and make a list of all the starlog links on the archive page\n",
    "all_starlogs = []\n",
    "for link in BeautifulSoup(content, parse_only=SoupStrainer('a')):\n",
    "    if hasattr(link, \"href\"):\n",
    "        all_starlogs.append(link['href'])"
   ]
  },
  {
   "cell_type": "code",
   "execution_count": 16,
   "metadata": {},
   "outputs": [
    {
     "name": "stdout",
     "output_type": "stream",
     "text": [
      "From what year do you want to look at logs from? 2021\n",
      "Found 130 starlogs from the year 2021. What month would you like to look at? (Enter in MM format) 06\n",
      "1. starLogDir/2021-0602-025028.starLog.sent\n",
      "2. starLogDir/2021-0602-044619.starLog.sent\n",
      "3. starLogDir/2021-0603-003136.starLog.sent\n",
      "4. starLogDir/2021-0603-060005.starLog.sent\n",
      "5. starLogDir/2021-0604-023612.starLog.sent\n",
      "6. starLogDir/2021-0607-025339.starLog.sent\n",
      "7. starLogDir/2021-0610-040321.starLog.sent\n",
      "8. starLogDir/2021-0611-031045.starLog.sent\n",
      "9. starLogDir/2021-0612-030712.starLog.sent\n",
      "10. starLogDir/2021-0613-022952.starLog.sent\n",
      "11. starLogDir/2021-0614-024428.starLog.sent\n",
      "12. starLogDir/2021-0615-033540.starLog.sent\n",
      "13. starLogDir/2021-0616-041056.starLog.sent\n",
      "14. starLogDir/2021-0618-232959.starLog.sent\n",
      "Found 14 starlogs from 2021-06, seen above. Choose the number of the file you would like to look at.11\n",
      "http://sextans.lowell.edu/npoi-internal/observing/starLogs/starLogDir/2021-0614-024428.starLog.sent\n"
     ]
    }
   ],
   "source": [
    "# Text dialogue to find an individual starlog: user provides month and year and then can\n",
    "# select from a list of logs from that timeframe\n",
    "\n",
    "year = input('From what year do you want to look at logs from? ')\n",
    "year_str = '/' + year + '-'\n",
    "year_logs = []\n",
    "for log in all_starlogs:\n",
    "    if year_str in log:\n",
    "        year_logs.append(log)\n",
    "month = input('Found ' + str(len(year_logs)) + ' starlogs from the year ' + year + '. What month would you like to look at? (Enter in MM format) ')\n",
    "month_str = '/' + year + '-' + month\n",
    "month_logs = []\n",
    "for log in year_logs:\n",
    "    if month_str in log:\n",
    "        month_logs.append(log)\n",
    "for i in range(len(month_logs)):\n",
    "    print(str(i+1) + '. ' + month_logs[i])\n",
    "final_file = int(input('Found ' + str(len(month_logs)) + ' starlogs from ' + year + '-' + month + ', seen above. Choose the number of the file you would like to look at.'))\n",
    "test_link = 'http://sextans.lowell.edu/npoi-internal/observing/starLogs/' + month_logs[final_file-1]\n",
    "\n",
    "print(test_link)"
   ]
  },
  {
   "cell_type": "code",
   "execution_count": 17,
   "metadata": {},
   "outputs": [],
   "source": [
    "# Get the data for the selected log\n",
    "test_log = requests.get(test_link,auth=('npoiuser','H8NoFringes')).content\n",
    "test_log_decode = test_log.decode() # decodes data from \"byte\" format to regular string format"
   ]
  },
  {
   "cell_type": "code",
   "execution_count": 18,
   "metadata": {},
   "outputs": [],
   "source": [
    "# Split data into list of individual entries, skipping fsnr lines, and then split each individual entry into a list of column entries\n",
    "data = test_log_decode.split('\\n')[18::2]\n",
    "data = [data[i].split() for i in range(len(data))]\n",
    "\n",
    "\n",
    "# Pull out only coherent scan entries\n",
    "data_clean = []\n",
    "\n",
    "for i in range(len(data)):\n",
    "    if data[i] != [] and data[i][1] != 'I' and data[i][9] != '-1.000' and data[i][12] != '-1.000':\n",
    "        data_clean.append(data[i])\n",
    "\n",
    "# Pull out star names, hour angles, and baseline offsets for each entry\n",
    "stars = np.array([data_clean[i][2] for i in range(len(data_clean))])\n",
    "angles = np.array([data_clean[i][4] for i in range(len(data_clean))]).astype(np.float)\n",
    "b1 = np.array([data_clean[i][9] for i in range(len(data_clean))]).astype(np.float)\n",
    "b4 = np.array([data_clean[i][12] for i in range(len(data_clean))]).astype(np.float)\n",
    "\n",
    "# Dictionaries to contain the hour angles and offsets for each observation for each unique star\n",
    "unique_stars = set(stars)\n",
    "b1_dict = {star: [] for star in unique_stars}\n",
    "b4_dict = {star: [] for star in unique_stars}\n",
    "angles_dict = {star: [] for star in unique_stars}\n",
    "\n",
    "# Sort the data into the dictionaries\n",
    "for star in unique_stars:\n",
    "    for i in range(len(stars)):\n",
    "        if stars[i] == star:\n",
    "            b1_dict[star].append(b1[i])\n",
    "            b4_dict[star].append(b4[i])\n",
    "            angles_dict[star].append(angles[i])"
   ]
  },
  {
   "cell_type": "code",
   "execution_count": 19,
   "metadata": {},
   "outputs": [
    {
     "name": "stderr",
     "output_type": "stream",
     "text": [
      "C:\\Users\\erinr\\anaconda3\\lib\\site-packages\\IPython\\core\\interactiveshell.py:3331: RankWarning: Polyfit may be poorly conditioned\n",
      "  exec(code_obj, self.user_global_ns, self.user_ns)\n",
      "C:\\Users\\erinr\\anaconda3\\lib\\site-packages\\IPython\\core\\interactiveshell.py:3331: RankWarning: Polyfit may be poorly conditioned\n",
      "  exec(code_obj, self.user_global_ns, self.user_ns)\n",
      "C:\\Users\\erinr\\anaconda3\\lib\\site-packages\\IPython\\core\\interactiveshell.py:3331: RankWarning: Polyfit may be poorly conditioned\n",
      "  exec(code_obj, self.user_global_ns, self.user_ns)\n",
      "C:\\Users\\erinr\\anaconda3\\lib\\site-packages\\IPython\\core\\interactiveshell.py:3331: RankWarning: Polyfit may be poorly conditioned\n",
      "  exec(code_obj, self.user_global_ns, self.user_ns)\n"
     ]
    }
   ],
   "source": [
    "# Fit the baseline offsets for each baseline/star to a quadratic fit\n",
    "# and make a dictionary of the coefficients\n",
    "\n",
    "polydict = {star: [] for star in unique_stars}\n",
    "for star in unique_stars:\n",
    "    polydict[star].append(np.polyfit(angles_dict[star], b1_dict[star],2))\n",
    "    polydict[star].append(np.polyfit(angles_dict[star], b4_dict[star],2))"
   ]
  },
  {
   "cell_type": "code",
   "execution_count": 20,
   "metadata": {},
   "outputs": [
    {
     "data": {
      "application/vnd.jupyter.widget-view+json": {
       "model_id": "28638efe1d324f7cb4cac763d3309404",
       "version_major": 2,
       "version_minor": 0
      },
      "text/plain": [
       "interactive(children=(Dropdown(description='Star', options=('BSC5993', 'FKV0730', 'FKV0516', 'BSC6378', 'FKV07…"
      ]
     },
     "metadata": {},
     "output_type": "display_data"
    }
   ],
   "source": [
    "# Function to plot the offsets and the polynomial fits for a given star, and to\n",
    "# display calculated offsets for a given hour angle for that star\n",
    "\n",
    "def plot_offsets(my_star, hour_angle=None):\n",
    "    if my_star == None: # default value of the dropdown list is None when this code block is run\n",
    "        pass\n",
    "    else:        \n",
    "        fig, ax = plt.subplots(1,1,figsize=(15,8))\n",
    "\n",
    "        # Scatter plot the hour angles and offsets for the star\n",
    "        ax.scatter(angles_dict[my_star], b1_dict[my_star], label='AC-AE, y=%.4fx^2 + %.4fx + %.4f' % (polydict[my_star][0][0], polydict[my_star][0][1], polydict[my_star][0][2]),c='lime')\n",
    "        ax.scatter(angles_dict[my_star], b4_dict[my_star], label='E6-AE, y=%.4fx^2 + %.4fx + %.4f' % (polydict[my_star][1][0], polydict[my_star][1][1], polydict[my_star][1][2]),c='b')\n",
    "        \n",
    "        # Plot the polynomial fit for each baseline\n",
    "        xs=np.linspace(np.amin(angles_dict[my_star]) - 0.5, np.amax(angles_dict[my_star]) + 0.5, 1000)\n",
    "        ax.plot(xs, (polydict[my_star][0][0] * (xs**2)) + (polydict[my_star][0][1]* xs) + polydict[my_star][0][2],c='lime')\n",
    "        ax.plot(xs, (polydict[my_star][1][0] * (xs**2)) + (polydict[my_star][1][1]* xs) + polydict[my_star][1][2],c='b')\n",
    "        \n",
    "        # Other plot setup\n",
    "        ax.set_ylim([0,3])\n",
    "        ax.set_title(my_star,fontsize=24)\n",
    "        ax.set_ylabel('Baseline Offset (mm)',fontsize=20)\n",
    "        ax.set_xlabel('Hour Angle', fontsize=20)\n",
    "        plt.xticks(fontsize=16)\n",
    "        plt.yticks(fontsize=16)\n",
    "        plt.legend(fontsize=16)\n",
    "        \n",
    "        plt.show()\n",
    "    \n",
    "        # Text box widgets to display the calculated baseline offsets for a given hour angle\n",
    "        acae = widgets.Text('%.3f' % ((polydict[my_star][0][0] * (hour_angle**2)) + (polydict[my_star][0][1]* hour_angle) + polydict[my_star][0][2]),description='AC-AE Offset')\n",
    "        e6ae = widgets.Text('%.3f' % ((polydict[my_star][1][0] * (hour_angle**2)) + (polydict[my_star][1][1]* hour_angle) + polydict[my_star][1][2]),description='E6-AE Offset')\n",
    "        display(acae)\n",
    "        display(e6ae)\n",
    "\n",
    "# Widgets that interacts with the above function: dropdown list to select the star that the above function will plot,\n",
    "# and text box to pass the hour angle that the function will take and use to calculate offsets\n",
    "starbox = widgets.interact(plot_offsets,my_star=widgets.Dropdown(options=unique_stars, value=None, description='Star', disabled=False), hour_angle=widgets.FloatText(description='Hour Angle'))\n"
   ]
  },
  {
   "cell_type": "code",
   "execution_count": null,
   "metadata": {},
   "outputs": [],
   "source": []
  }
 ],
 "metadata": {
  "kernelspec": {
   "display_name": "Python 3",
   "language": "python",
   "name": "python3"
  },
  "language_info": {
   "codemirror_mode": {
    "name": "ipython",
    "version": 3
   },
   "file_extension": ".py",
   "mimetype": "text/x-python",
   "name": "python",
   "nbconvert_exporter": "python",
   "pygments_lexer": "ipython3",
   "version": "3.7.6"
  },
  "varInspector": {
   "cols": {
    "lenName": 16,
    "lenType": 16,
    "lenVar": 40
   },
   "kernels_config": {
    "python": {
     "delete_cmd_postfix": "",
     "delete_cmd_prefix": "del ",
     "library": "var_list.py",
     "varRefreshCmd": "print(var_dic_list())"
    },
    "r": {
     "delete_cmd_postfix": ") ",
     "delete_cmd_prefix": "rm(",
     "library": "var_list.r",
     "varRefreshCmd": "cat(var_dic_list()) "
    }
   },
   "types_to_exclude": [
    "module",
    "function",
    "builtin_function_or_method",
    "instance",
    "_Feature"
   ],
   "window_display": false
  }
 },
 "nbformat": 4,
 "nbformat_minor": 4
}
